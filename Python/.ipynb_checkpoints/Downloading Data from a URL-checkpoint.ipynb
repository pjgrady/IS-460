{
 "cells": [
  {
   "cell_type": "code",
   "execution_count": 5,
   "id": "45b15c01",
   "metadata": {},
   "outputs": [],
   "source": [
    "import wget\n",
    "\n",
    "URL =\"https://uc20dbd0d0d5d3804b29e5b028a7.dl.dropboxusercontent.com/cd/0/inline/BYzBKK-cTpVk7g4JyPYtu_uwjo9AbSstHXrWT4JHiMC-Tl7QCJJsTmDZTnb1_AH_BtTzn0CcFaEtUnb5o5T3nHM6cXhePO8KN8jaHTJGukkVB6HnbLWJCzlnc5acQb_0W9Yriil3y9qMIivKdWplcPSE/file#\"\n",
    "\n",
    "path = \"C:/Users/paulg/Documents/GitHub/IS-460/Python/Data Visualization Data Files/\""
   ]
  },
  {
   "cell_type": "code",
   "execution_count": 6,
   "id": "de8b5c10",
   "metadata": {},
   "outputs": [
    {
     "data": {
      "text/plain": [
       "'C:/Users/paulg/Documents/GitHub/IS-460/Python/Data Visualization Data Files/Baltimore911_Dec2020.csv'"
      ]
     },
     "execution_count": 6,
     "metadata": {},
     "output_type": "execute_result"
    }
   ],
   "source": [
    "wget.download(URL, path + 'Baltimore911_Dec2020.csv')"
   ]
  },
  {
   "cell_type": "code",
   "execution_count": 7,
   "id": "a4d3a503",
   "metadata": {},
   "outputs": [
    {
     "name": "stdout",
     "output_type": "stream",
     "text": [
      "File size:  1.95 GB\n"
     ]
    }
   ],
   "source": [
    "import os\n",
    "\n",
    "size = os.stat(path + 'Baltimore911_Dec2020.csv').st_size\n",
    "\n",
    "print(\"File size: \", round(size/10**9,2), \"GB\")"
   ]
  },
  {
   "cell_type": "code",
   "execution_count": null,
   "id": "228e001c",
   "metadata": {},
   "outputs": [],
   "source": []
  }
 ],
 "metadata": {
  "kernelspec": {
   "display_name": "Python 3",
   "language": "python",
   "name": "python3"
  },
  "language_info": {
   "codemirror_mode": {
    "name": "ipython",
    "version": 3
   },
   "file_extension": ".py",
   "mimetype": "text/x-python",
   "name": "python",
   "nbconvert_exporter": "python",
   "pygments_lexer": "ipython3",
   "version": "3.8.8"
  }
 },
 "nbformat": 4,
 "nbformat_minor": 5
}
