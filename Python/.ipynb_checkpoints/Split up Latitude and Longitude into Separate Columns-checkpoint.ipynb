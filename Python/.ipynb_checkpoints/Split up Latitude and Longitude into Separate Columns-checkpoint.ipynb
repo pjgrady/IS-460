{
 "cells": [
  {
   "cell_type": "code",
   "execution_count": 1,
   "id": "8c2596a7",
   "metadata": {},
   "outputs": [],
   "source": [
    "import pandas as pd"
   ]
  },
  {
   "cell_type": "code",
   "execution_count": 2,
   "id": "144b548e",
   "metadata": {},
   "outputs": [],
   "source": [
    "path = \"/Users/paulgrady/Documents/GitHub/IS-460/Python/Data Visualization Data Files/\""
   ]
  },
  {
   "cell_type": "code",
   "execution_count": 3,
   "id": "e52432ac",
   "metadata": {},
   "outputs": [],
   "source": [
    "filename = \"Baltimore911_Dec2020.csv\""
   ]
  },
  {
   "cell_type": "code",
   "execution_count": 7,
   "id": "aef5613a",
   "metadata": {},
   "outputs": [],
   "source": [
    "df = pd.read_csv(path + filename,usecols = ['Location'], nrows = 5, skiprows = 0)"
   ]
  },
  {
   "cell_type": "code",
   "execution_count": 10,
   "id": "2ddfb829",
   "metadata": {},
   "outputs": [],
   "source": [
    "pd.set_option('display.max_colwidth', None)"
   ]
  },
  {
   "cell_type": "code",
   "execution_count": 11,
   "id": "99a91c80",
   "metadata": {},
   "outputs": [
    {
     "data": {
      "text/html": [
       "<div>\n",
       "<style scoped>\n",
       "    .dataframe tbody tr th:only-of-type {\n",
       "        vertical-align: middle;\n",
       "    }\n",
       "\n",
       "    .dataframe tbody tr th {\n",
       "        vertical-align: top;\n",
       "    }\n",
       "\n",
       "    .dataframe thead th {\n",
       "        text-align: right;\n",
       "    }\n",
       "</style>\n",
       "<table border=\"1\" class=\"dataframe\">\n",
       "  <thead>\n",
       "    <tr style=\"text-align: right;\">\n",
       "      <th></th>\n",
       "      <th>Location</th>\n",
       "    </tr>\n",
       "  </thead>\n",
       "  <tbody>\n",
       "    <tr>\n",
       "      <th>0</th>\n",
       "      <td>1200 W CROSS ST\\nBALTIMORE, MD\\n(39.281995, -76.631387)</td>\n",
       "    </tr>\n",
       "    <tr>\n",
       "      <th>1</th>\n",
       "      <td>2100 W PRATT ST\\nBALTIMORE, MD\\n(39.284965, -76.650033)</td>\n",
       "    </tr>\n",
       "    <tr>\n",
       "      <th>2</th>\n",
       "      <td>HOME DEPOT BALTIMORE, MD\\n(39.499699, -76.641403)</td>\n",
       "    </tr>\n",
       "    <tr>\n",
       "      <th>3</th>\n",
       "      <td>5200 YORK RD\\nBALTIMORE, MD\\n(39.352315, -76.609786)</td>\n",
       "    </tr>\n",
       "    <tr>\n",
       "      <th>4</th>\n",
       "      <td>2500 N ELLAMONT ST\\nBALTIMORE, MD\\n(39.315441, -76.671322)</td>\n",
       "    </tr>\n",
       "  </tbody>\n",
       "</table>\n",
       "</div>"
      ],
      "text/plain": [
       "                                                     Location\n",
       "0     1200 W CROSS ST\\nBALTIMORE, MD\\n(39.281995, -76.631387)\n",
       "1     2100 W PRATT ST\\nBALTIMORE, MD\\n(39.284965, -76.650033)\n",
       "2           HOME DEPOT BALTIMORE, MD\\n(39.499699, -76.641403)\n",
       "3        5200 YORK RD\\nBALTIMORE, MD\\n(39.352315, -76.609786)\n",
       "4  2500 N ELLAMONT ST\\nBALTIMORE, MD\\n(39.315441, -76.671322)"
      ]
     },
     "execution_count": 11,
     "metadata": {},
     "output_type": "execute_result"
    }
   ],
   "source": [
    "df"
   ]
  },
  {
   "cell_type": "code",
   "execution_count": 29,
   "id": "62db2288",
   "metadata": {},
   "outputs": [
    {
     "data": {
      "text/html": [
       "<div>\n",
       "<style scoped>\n",
       "    .dataframe tbody tr th:only-of-type {\n",
       "        vertical-align: middle;\n",
       "    }\n",
       "\n",
       "    .dataframe tbody tr th {\n",
       "        vertical-align: top;\n",
       "    }\n",
       "\n",
       "    .dataframe thead th {\n",
       "        text-align: right;\n",
       "    }\n",
       "</style>\n",
       "<table border=\"1\" class=\"dataframe\">\n",
       "  <thead>\n",
       "    <tr style=\"text-align: right;\">\n",
       "      <th></th>\n",
       "      <th>Lat</th>\n",
       "      <th>Lon</th>\n",
       "    </tr>\n",
       "  </thead>\n",
       "  <tbody>\n",
       "    <tr>\n",
       "      <th>0</th>\n",
       "      <td>39.281995</td>\n",
       "      <td>-76.631387</td>\n",
       "    </tr>\n",
       "    <tr>\n",
       "      <th>1</th>\n",
       "      <td>39.284965</td>\n",
       "      <td>-76.650033</td>\n",
       "    </tr>\n",
       "    <tr>\n",
       "      <th>2</th>\n",
       "      <td>39.499699</td>\n",
       "      <td>-76.641403</td>\n",
       "    </tr>\n",
       "    <tr>\n",
       "      <th>3</th>\n",
       "      <td>39.352315</td>\n",
       "      <td>-76.609786</td>\n",
       "    </tr>\n",
       "    <tr>\n",
       "      <th>4</th>\n",
       "      <td>39.315441</td>\n",
       "      <td>-76.671322</td>\n",
       "    </tr>\n",
       "    <tr>\n",
       "      <th>...</th>\n",
       "      <td>...</td>\n",
       "      <td>...</td>\n",
       "    </tr>\n",
       "    <tr>\n",
       "      <th>295</th>\n",
       "      <td>39.241552</td>\n",
       "      <td>-76.603559</td>\n",
       "    </tr>\n",
       "    <tr>\n",
       "      <th>296</th>\n",
       "      <td>39.285517</td>\n",
       "      <td>-76.595067</td>\n",
       "    </tr>\n",
       "    <tr>\n",
       "      <th>297</th>\n",
       "      <td>39.322762</td>\n",
       "      <td>-76.570441</td>\n",
       "    </tr>\n",
       "    <tr>\n",
       "      <th>298</th>\n",
       "      <td>39.323032</td>\n",
       "      <td>-76.543379</td>\n",
       "    </tr>\n",
       "    <tr>\n",
       "      <th>299</th>\n",
       "      <td>39.306349</td>\n",
       "      <td>-76.631026</td>\n",
       "    </tr>\n",
       "  </tbody>\n",
       "</table>\n",
       "<p>300 rows × 2 columns</p>\n",
       "</div>"
      ],
      "text/plain": [
       "           Lat         Lon\n",
       "0    39.281995  -76.631387\n",
       "1    39.284965  -76.650033\n",
       "2    39.499699  -76.641403\n",
       "3    39.352315  -76.609786\n",
       "4    39.315441  -76.671322\n",
       "..         ...         ...\n",
       "295  39.241552  -76.603559\n",
       "296  39.285517  -76.595067\n",
       "297  39.322762  -76.570441\n",
       "298  39.323032  -76.543379\n",
       "299  39.306349  -76.631026\n",
       "\n",
       "[300 rows x 2 columns]"
      ]
     },
     "execution_count": 29,
     "metadata": {},
     "output_type": "execute_result"
    }
   ],
   "source": [
    "import numpy as np\n",
    "df = pd.read_csv(path + filename,usecols = ['Location'], nrows = 300, skiprows = 0)\n",
    "c = 0\n",
    "for each in df['Location']:\n",
    "    try:\n",
    "        x = str(each).replace(\")\", \"\").split(\"(\")[-1].split(\",\")\n",
    "        df.loc[c, 'Lat'] = '%.6f' % float(x[0])\n",
    "        df.loc[c, \"Lon\"] = '%.6f' % float(x[1])\n",
    "        #print(df.loc[c, 'Lat'], '   ',df.loc[c, \"Lon\"] )\n",
    "    except:\n",
    "        df.loc[c, 'Lat'] = np.NaN\n",
    "        df.loc[c, \"Lon\"] = np.NaN\n",
    "    c+=1\n",
    "df[['Lat', 'Lon']]"
   ]
  },
  {
   "cell_type": "code",
   "execution_count": null,
   "id": "1a80c235",
   "metadata": {},
   "outputs": [],
   "source": []
  }
 ],
 "metadata": {
  "kernelspec": {
   "display_name": "Python 3",
   "language": "python",
   "name": "python3"
  },
  "language_info": {
   "codemirror_mode": {
    "name": "ipython",
    "version": 3
   },
   "file_extension": ".py",
   "mimetype": "text/x-python",
   "name": "python",
   "nbconvert_exporter": "python",
   "pygments_lexer": "ipython3",
   "version": "3.8.8"
  }
 },
 "nbformat": 4,
 "nbformat_minor": 5
}
