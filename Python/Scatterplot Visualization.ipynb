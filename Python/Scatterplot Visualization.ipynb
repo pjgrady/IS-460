{
 "cells": [
  {
   "cell_type": "code",
   "execution_count": 1,
   "id": "32a821b9",
   "metadata": {},
   "outputs": [
    {
     "name": "stdout",
     "output_type": "stream",
     "text": [
      "Index(['Citation', 'Tag', 'ExpMM', 'ExpYY', 'State', 'Make', 'Address',\n",
      "       'ViolCode', 'Description', 'ViolFine', 'ViolDate', 'Balance',\n",
      "       'PenaltyDate', 'OpenFine', 'OpenPenalty', 'ImportDate'],\n",
      "      dtype='object')\n"
     ]
    }
   ],
   "source": [
    "import pandas as pd\n",
    "import numpy as np\n",
    "import matplotlib.pyplot as plt\n",
    "import warnings\n",
    "\n",
    "warnings.filterwarnings(\"ignore\")\n",
    "\n",
    "path = \"C:/Users/paulg/Documents/GitHub/IS-460/Python/Data Visualization Data Files/\"\n",
    "\n",
    "filename = path + 'Baltimore_Traffic_Citations.csv'\n",
    "\n",
    "df = pd.read_csv(filename, nrows=5)\n",
    "print(df.columns)"
   ]
  },
  {
   "cell_type": "code",
   "execution_count": 2,
   "id": "07c83d1e",
   "metadata": {},
   "outputs": [],
   "source": [
    "df = pd.read_csv(filename, usecols=['ExpMM', 'ExpYY'])\n"
   ]
  },
  {
   "cell_type": "code",
   "execution_count": 3,
   "id": "a97302fd",
   "metadata": {},
   "outputs": [
    {
     "data": {
      "text/plain": [
       "(4159467, 2)"
      ]
     },
     "execution_count": 3,
     "metadata": {},
     "output_type": "execute_result"
    }
   ],
   "source": [
    "df.shape"
   ]
  },
  {
   "cell_type": "code",
   "execution_count": 4,
   "id": "72ad5fb2",
   "metadata": {
    "scrolled": true
   },
   "outputs": [
    {
     "data": {
      "text/plain": [
       "ExpMM    77884\n",
       "ExpYY       13\n",
       "dtype: int64"
      ]
     },
     "execution_count": 4,
     "metadata": {},
     "output_type": "execute_result"
    }
   ],
   "source": [
    "df.isna().sum()"
   ]
  },
  {
   "cell_type": "code",
   "execution_count": 5,
   "id": "12c5db61",
   "metadata": {},
   "outputs": [],
   "source": [
    "df = df[df['ExpMM'].notna() & df['ExpYY'].notna()]"
   ]
  },
  {
   "cell_type": "code",
   "execution_count": 6,
   "id": "37cd8aa3",
   "metadata": {},
   "outputs": [
    {
     "data": {
      "text/plain": [
       "(4081570, 2)"
      ]
     },
     "execution_count": 6,
     "metadata": {},
     "output_type": "execute_result"
    }
   ],
   "source": [
    "df.shape"
   ]
  },
  {
   "cell_type": "code",
   "execution_count": 8,
   "id": "7a877396",
   "metadata": {},
   "outputs": [],
   "source": [
    "df = df[df['ExpMM'] != 0]"
   ]
  },
  {
   "cell_type": "code",
   "execution_count": 9,
   "id": "c639e8e2",
   "metadata": {},
   "outputs": [
    {
     "data": {
      "text/plain": [
       "0          20.0\n",
       "1          20.0\n",
       "2          16.0\n",
       "3          20.0\n",
       "4          20.0\n",
       "           ... \n",
       "4159462    17.0\n",
       "4159463    19.0\n",
       "4159464    19.0\n",
       "4159465     0.0\n",
       "4159466    19.0\n",
       "Name: ExpYY, Length: 4067331, dtype: float64"
      ]
     },
     "execution_count": 9,
     "metadata": {},
     "output_type": "execute_result"
    }
   ],
   "source": [
    "df['ExpYY']"
   ]
  },
  {
   "cell_type": "code",
   "execution_count": 10,
   "id": "15e1025e",
   "metadata": {},
   "outputs": [
    {
     "data": {
      "text/plain": [
       "array([ 0.,  1.,  2.,  3.,  4.,  5.,  6.,  7.,  8.,  9., 10., 11., 12.,\n",
       "       13., 14., 15., 16., 17., 18., 19., 20., 21., 22., 23., 24., 25.,\n",
       "       26., 27., 49., 85., 86., 87., 88., 89., 90., 91., 92., 93., 94.,\n",
       "       95., 96., 97., 98., 99.])"
      ]
     },
     "execution_count": 10,
     "metadata": {},
     "output_type": "execute_result"
    }
   ],
   "source": [
    "np.unique(df['ExpYY'])"
   ]
  },
  {
   "cell_type": "code",
   "execution_count": 11,
   "id": "f0e927d6",
   "metadata": {},
   "outputs": [],
   "source": [
    "df['ExpYear'] = np.where(df['ExpYY'] <= 48, 2000, 1900) + df['ExpYY']"
   ]
  },
  {
   "cell_type": "code",
   "execution_count": 12,
   "id": "58031683",
   "metadata": {},
   "outputs": [
    {
     "data": {
      "text/html": [
       "<div>\n",
       "<style scoped>\n",
       "    .dataframe tbody tr th:only-of-type {\n",
       "        vertical-align: middle;\n",
       "    }\n",
       "\n",
       "    .dataframe tbody tr th {\n",
       "        vertical-align: top;\n",
       "    }\n",
       "\n",
       "    .dataframe thead th {\n",
       "        text-align: right;\n",
       "    }\n",
       "</style>\n",
       "<table border=\"1\" class=\"dataframe\">\n",
       "  <thead>\n",
       "    <tr style=\"text-align: right;\">\n",
       "      <th></th>\n",
       "      <th>ExpMM</th>\n",
       "      <th>ExpYY</th>\n",
       "      <th>ExpYear</th>\n",
       "    </tr>\n",
       "  </thead>\n",
       "  <tbody>\n",
       "    <tr>\n",
       "      <th>0</th>\n",
       "      <td>03</td>\n",
       "      <td>20.0</td>\n",
       "      <td>2020.0</td>\n",
       "    </tr>\n",
       "    <tr>\n",
       "      <th>1</th>\n",
       "      <td>03</td>\n",
       "      <td>20.0</td>\n",
       "      <td>2020.0</td>\n",
       "    </tr>\n",
       "    <tr>\n",
       "      <th>2</th>\n",
       "      <td>09</td>\n",
       "      <td>16.0</td>\n",
       "      <td>2016.0</td>\n",
       "    </tr>\n",
       "    <tr>\n",
       "      <th>3</th>\n",
       "      <td>04</td>\n",
       "      <td>20.0</td>\n",
       "      <td>2020.0</td>\n",
       "    </tr>\n",
       "    <tr>\n",
       "      <th>4</th>\n",
       "      <td>09</td>\n",
       "      <td>20.0</td>\n",
       "      <td>2020.0</td>\n",
       "    </tr>\n",
       "    <tr>\n",
       "      <th>...</th>\n",
       "      <td>...</td>\n",
       "      <td>...</td>\n",
       "      <td>...</td>\n",
       "    </tr>\n",
       "    <tr>\n",
       "      <th>4159462</th>\n",
       "      <td>11</td>\n",
       "      <td>17.0</td>\n",
       "      <td>2017.0</td>\n",
       "    </tr>\n",
       "    <tr>\n",
       "      <th>4159463</th>\n",
       "      <td>07</td>\n",
       "      <td>19.0</td>\n",
       "      <td>2019.0</td>\n",
       "    </tr>\n",
       "    <tr>\n",
       "      <th>4159464</th>\n",
       "      <td>02</td>\n",
       "      <td>19.0</td>\n",
       "      <td>2019.0</td>\n",
       "    </tr>\n",
       "    <tr>\n",
       "      <th>4159465</th>\n",
       "      <td>00</td>\n",
       "      <td>0.0</td>\n",
       "      <td>2000.0</td>\n",
       "    </tr>\n",
       "    <tr>\n",
       "      <th>4159466</th>\n",
       "      <td>02</td>\n",
       "      <td>19.0</td>\n",
       "      <td>2019.0</td>\n",
       "    </tr>\n",
       "  </tbody>\n",
       "</table>\n",
       "<p>4067331 rows × 3 columns</p>\n",
       "</div>"
      ],
      "text/plain": [
       "        ExpMM  ExpYY  ExpYear\n",
       "0          03   20.0   2020.0\n",
       "1          03   20.0   2020.0\n",
       "2          09   16.0   2016.0\n",
       "3          04   20.0   2020.0\n",
       "4          09   20.0   2020.0\n",
       "...       ...    ...      ...\n",
       "4159462    11   17.0   2017.0\n",
       "4159463    07   19.0   2019.0\n",
       "4159464    02   19.0   2019.0\n",
       "4159465    00    0.0   2000.0\n",
       "4159466    02   19.0   2019.0\n",
       "\n",
       "[4067331 rows x 3 columns]"
      ]
     },
     "execution_count": 12,
     "metadata": {},
     "output_type": "execute_result"
    }
   ],
   "source": [
    "df"
   ]
  },
  {
   "cell_type": "code",
   "execution_count": 14,
   "id": "c2861794",
   "metadata": {},
   "outputs": [
    {
     "data": {
      "text/html": [
       "<div>\n",
       "<style scoped>\n",
       "    .dataframe tbody tr th:only-of-type {\n",
       "        vertical-align: middle;\n",
       "    }\n",
       "\n",
       "    .dataframe tbody tr th {\n",
       "        vertical-align: top;\n",
       "    }\n",
       "\n",
       "    .dataframe thead th {\n",
       "        text-align: right;\n",
       "    }\n",
       "</style>\n",
       "<table border=\"1\" class=\"dataframe\">\n",
       "  <thead>\n",
       "    <tr style=\"text-align: right;\">\n",
       "      <th></th>\n",
       "      <th>ExpYear</th>\n",
       "      <th>ExpMM</th>\n",
       "      <th>count</th>\n",
       "    </tr>\n",
       "  </thead>\n",
       "  <tbody>\n",
       "    <tr>\n",
       "      <th>0</th>\n",
       "      <td>1949.0</td>\n",
       "      <td>12</td>\n",
       "      <td>1</td>\n",
       "    </tr>\n",
       "    <tr>\n",
       "      <th>1</th>\n",
       "      <td>1985.0</td>\n",
       "      <td>3.0</td>\n",
       "      <td>4</td>\n",
       "    </tr>\n",
       "    <tr>\n",
       "      <th>2</th>\n",
       "      <td>1985.0</td>\n",
       "      <td>4.0</td>\n",
       "      <td>1</td>\n",
       "    </tr>\n",
       "    <tr>\n",
       "      <th>3</th>\n",
       "      <td>1985.0</td>\n",
       "      <td>03</td>\n",
       "      <td>32</td>\n",
       "    </tr>\n",
       "    <tr>\n",
       "      <th>4</th>\n",
       "      <td>1985.0</td>\n",
       "      <td>04</td>\n",
       "      <td>6</td>\n",
       "    </tr>\n",
       "    <tr>\n",
       "      <th>...</th>\n",
       "      <td>...</td>\n",
       "      <td>...</td>\n",
       "      <td>...</td>\n",
       "    </tr>\n",
       "    <tr>\n",
       "      <th>851</th>\n",
       "      <td>2026.0</td>\n",
       "      <td>03</td>\n",
       "      <td>1</td>\n",
       "    </tr>\n",
       "    <tr>\n",
       "      <th>852</th>\n",
       "      <td>2026.0</td>\n",
       "      <td>06</td>\n",
       "      <td>1</td>\n",
       "    </tr>\n",
       "    <tr>\n",
       "      <th>853</th>\n",
       "      <td>2026.0</td>\n",
       "      <td>07</td>\n",
       "      <td>1</td>\n",
       "    </tr>\n",
       "    <tr>\n",
       "      <th>854</th>\n",
       "      <td>2026.0</td>\n",
       "      <td>09</td>\n",
       "      <td>2</td>\n",
       "    </tr>\n",
       "    <tr>\n",
       "      <th>855</th>\n",
       "      <td>2027.0</td>\n",
       "      <td>03</td>\n",
       "      <td>1</td>\n",
       "    </tr>\n",
       "  </tbody>\n",
       "</table>\n",
       "<p>856 rows × 3 columns</p>\n",
       "</div>"
      ],
      "text/plain": [
       "     ExpYear ExpMM  count\n",
       "0     1949.0    12      1\n",
       "1     1985.0   3.0      4\n",
       "2     1985.0   4.0      1\n",
       "3     1985.0    03     32\n",
       "4     1985.0    04      6\n",
       "..       ...   ...    ...\n",
       "851   2026.0    03      1\n",
       "852   2026.0    06      1\n",
       "853   2026.0    07      1\n",
       "854   2026.0    09      2\n",
       "855   2027.0    03      1\n",
       "\n",
       "[856 rows x 3 columns]"
      ]
     },
     "execution_count": 14,
     "metadata": {},
     "output_type": "execute_result"
    }
   ],
   "source": [
    "x = df.groupby(['ExpYear', 'ExpMM'])['ExpYear'].count().reset_index(name='count')\n",
    "x = pd.DataFrame(x)\n",
    "x"
   ]
  },
  {
   "cell_type": "code",
   "execution_count": 15,
   "id": "659b65c6",
   "metadata": {},
   "outputs": [
    {
     "data": {
      "text/plain": [
       "71989"
      ]
     },
     "execution_count": 15,
     "metadata": {},
     "output_type": "execute_result"
    }
   ],
   "source": [
    "x['count'].max()"
   ]
  },
  {
   "cell_type": "code",
   "execution_count": 16,
   "id": "c4515a1a",
   "metadata": {},
   "outputs": [
    {
     "data": {
      "text/plain": [
       "1"
      ]
     },
     "execution_count": 16,
     "metadata": {},
     "output_type": "execute_result"
    }
   ],
   "source": [
    "x['count'].min()"
   ]
  },
  {
   "cell_type": "code",
   "execution_count": 17,
   "id": "ab43c0b0",
   "metadata": {},
   "outputs": [
    {
     "data": {
      "text/plain": [
       "2014.0    39\n",
       "2019.0    38\n",
       "2020.0    36\n",
       "2015.0    35\n",
       "2013.0    35\n",
       "2018.0    34\n",
       "2021.0    32\n",
       "2017.0    29\n",
       "2016.0    28\n",
       "2000.0    27\n",
       "2008.0    26\n",
       "2011.0    25\n",
       "2012.0    25\n",
       "2007.0    25\n",
       "2010.0    25\n",
       "2006.0    24\n",
       "2023.0    24\n",
       "2009.0    24\n",
       "2024.0    24\n",
       "2022.0    24\n",
       "2005.0    21\n",
       "2025.0    20\n",
       "2004.0    20\n",
       "1987.0    19\n",
       "1990.0    17\n",
       "1989.0    17\n",
       "2001.0    17\n",
       "1988.0    16\n",
       "2003.0    16\n",
       "2002.0    14\n",
       "1999.0    12\n",
       "1996.0    10\n",
       "1992.0    10\n",
       "1991.0    10\n",
       "1993.0     9\n",
       "1994.0     8\n",
       "1998.0     8\n",
       "1995.0     8\n",
       "1986.0     7\n",
       "1997.0     7\n",
       "2026.0     5\n",
       "1985.0     4\n",
       "2027.0     1\n",
       "1949.0     1\n",
       "Name: ExpYear, dtype: int64"
      ]
     },
     "execution_count": 17,
     "metadata": {},
     "output_type": "execute_result"
    }
   ],
   "source": [
    "x.ExpYear.value_counts()"
   ]
  },
  {
   "cell_type": "code",
   "execution_count": 18,
   "id": "c9841d26",
   "metadata": {},
   "outputs": [
    {
     "data": {
      "text/plain": [
       "03      41\n",
       "04      41\n",
       "11      36\n",
       "07      36\n",
       "12      35\n",
       "06      34\n",
       "4.0     34\n",
       "01      34\n",
       "05      34\n",
       "08      34\n",
       "09      34\n",
       "3.0     30\n",
       "10      30\n",
       "02      28\n",
       "1.0     28\n",
       "12.0    28\n",
       "2.0     28\n",
       "11.0    27\n",
       "10.0    27\n",
       "6.0     27\n",
       "5.0     27\n",
       "8.0     26\n",
       "7.0     26\n",
       "9.0     25\n",
       "00      18\n",
       "APR      7\n",
       "JUN      6\n",
       "MAY      6\n",
       "-0       5\n",
       "FEB      5\n",
       "OCT      5\n",
       "DEC      5\n",
       "SEP      5\n",
       "JAN      5\n",
       "MAR      4\n",
       "JUL      4\n",
       "AUG      4\n",
       "PE       3\n",
       "010      2\n",
       "001      2\n",
       "003      2\n",
       "002      2\n",
       "NOV      2\n",
       "004      2\n",
       "007      2\n",
       "011      2\n",
       "99       1\n",
       "008      1\n",
       "99.0     1\n",
       "006      1\n",
       "012      1\n",
       "005      1\n",
       "009      1\n",
       "000      1\n",
       "Name: ExpMM, dtype: int64"
      ]
     },
     "execution_count": 18,
     "metadata": {},
     "output_type": "execute_result"
    }
   ],
   "source": [
    "x.ExpMM.value_counts()"
   ]
  },
  {
   "cell_type": "code",
   "execution_count": 27,
   "id": "88f425e2",
   "metadata": {},
   "outputs": [],
   "source": [
    "omit = ['JUL','AUG', 'RM', 'FEB', 'JUN', 'JAN', 'SEP', 'NOV', 'MAR', 'OCT','DEC','MAY','APR','-0', 'PE','00','000','99', '99.0', 99]"
   ]
  },
  {
   "cell_type": "code",
   "execution_count": 28,
   "id": "e31dbeeb",
   "metadata": {},
   "outputs": [],
   "source": [
    "x2 = x.loc[~x['ExpMM'].isin(omit)]"
   ]
  },
  {
   "cell_type": "code",
   "execution_count": 29,
   "id": "3b71560c",
   "metadata": {},
   "outputs": [
    {
     "data": {
      "text/html": [
       "<div>\n",
       "<style scoped>\n",
       "    .dataframe tbody tr th:only-of-type {\n",
       "        vertical-align: middle;\n",
       "    }\n",
       "\n",
       "    .dataframe tbody tr th {\n",
       "        vertical-align: top;\n",
       "    }\n",
       "\n",
       "    .dataframe thead th {\n",
       "        text-align: right;\n",
       "    }\n",
       "</style>\n",
       "<table border=\"1\" class=\"dataframe\">\n",
       "  <thead>\n",
       "    <tr style=\"text-align: right;\">\n",
       "      <th></th>\n",
       "      <th>ExpYear</th>\n",
       "      <th>ExpMM</th>\n",
       "      <th>count</th>\n",
       "    </tr>\n",
       "  </thead>\n",
       "  <tbody>\n",
       "    <tr>\n",
       "      <th>0</th>\n",
       "      <td>1949.0</td>\n",
       "      <td>12</td>\n",
       "      <td>1</td>\n",
       "    </tr>\n",
       "    <tr>\n",
       "      <th>1</th>\n",
       "      <td>1985.0</td>\n",
       "      <td>3.0</td>\n",
       "      <td>4</td>\n",
       "    </tr>\n",
       "    <tr>\n",
       "      <th>2</th>\n",
       "      <td>1985.0</td>\n",
       "      <td>4.0</td>\n",
       "      <td>1</td>\n",
       "    </tr>\n",
       "    <tr>\n",
       "      <th>3</th>\n",
       "      <td>1985.0</td>\n",
       "      <td>03</td>\n",
       "      <td>32</td>\n",
       "    </tr>\n",
       "    <tr>\n",
       "      <th>4</th>\n",
       "      <td>1985.0</td>\n",
       "      <td>04</td>\n",
       "      <td>6</td>\n",
       "    </tr>\n",
       "    <tr>\n",
       "      <th>...</th>\n",
       "      <td>...</td>\n",
       "      <td>...</td>\n",
       "      <td>...</td>\n",
       "    </tr>\n",
       "    <tr>\n",
       "      <th>851</th>\n",
       "      <td>2026.0</td>\n",
       "      <td>03</td>\n",
       "      <td>1</td>\n",
       "    </tr>\n",
       "    <tr>\n",
       "      <th>852</th>\n",
       "      <td>2026.0</td>\n",
       "      <td>06</td>\n",
       "      <td>1</td>\n",
       "    </tr>\n",
       "    <tr>\n",
       "      <th>853</th>\n",
       "      <td>2026.0</td>\n",
       "      <td>07</td>\n",
       "      <td>1</td>\n",
       "    </tr>\n",
       "    <tr>\n",
       "      <th>854</th>\n",
       "      <td>2026.0</td>\n",
       "      <td>09</td>\n",
       "      <td>2</td>\n",
       "    </tr>\n",
       "    <tr>\n",
       "      <th>855</th>\n",
       "      <td>2027.0</td>\n",
       "      <td>03</td>\n",
       "      <td>1</td>\n",
       "    </tr>\n",
       "  </tbody>\n",
       "</table>\n",
       "<p>769 rows × 3 columns</p>\n",
       "</div>"
      ],
      "text/plain": [
       "     ExpYear ExpMM  count\n",
       "0     1949.0    12      1\n",
       "1     1985.0   3.0      4\n",
       "2     1985.0   4.0      1\n",
       "3     1985.0    03     32\n",
       "4     1985.0    04      6\n",
       "..       ...   ...    ...\n",
       "851   2026.0    03      1\n",
       "852   2026.0    06      1\n",
       "853   2026.0    07      1\n",
       "854   2026.0    09      2\n",
       "855   2027.0    03      1\n",
       "\n",
       "[769 rows x 3 columns]"
      ]
     },
     "execution_count": 29,
     "metadata": {},
     "output_type": "execute_result"
    }
   ],
   "source": [
    "x2"
   ]
  },
  {
   "cell_type": "code",
   "execution_count": 30,
   "id": "4d3d96b7",
   "metadata": {},
   "outputs": [
    {
     "data": {
      "text/plain": [
       "03      41\n",
       "04      41\n",
       "07      36\n",
       "11      36\n",
       "12      35\n",
       "09      34\n",
       "4.0     34\n",
       "05      34\n",
       "01      34\n",
       "08      34\n",
       "06      34\n",
       "10      30\n",
       "3.0     30\n",
       "02      28\n",
       "2.0     28\n",
       "1.0     28\n",
       "12.0    28\n",
       "11.0    27\n",
       "10.0    27\n",
       "6.0     27\n",
       "5.0     27\n",
       "8.0     26\n",
       "7.0     26\n",
       "9.0     25\n",
       "010      2\n",
       "004      2\n",
       "003      2\n",
       "011      2\n",
       "007      2\n",
       "002      2\n",
       "001      2\n",
       "005      1\n",
       "009      1\n",
       "008      1\n",
       "006      1\n",
       "012      1\n",
       "Name: ExpMM, dtype: int64"
      ]
     },
     "execution_count": 30,
     "metadata": {},
     "output_type": "execute_result"
    }
   ],
   "source": [
    "x2.ExpMM.value_counts()"
   ]
  },
  {
   "cell_type": "code",
   "execution_count": 33,
   "id": "08fb638c",
   "metadata": {},
   "outputs": [],
   "source": [
    "x2 = x2.loc[ ~x2['ExpYear'].isin(range(2011)) ]"
   ]
  },
  {
   "cell_type": "code",
   "execution_count": 35,
   "id": "8c35d7d0",
   "metadata": {},
   "outputs": [
    {
     "data": {
      "text/plain": [
       "2014.0    34\n",
       "2013.0    31\n",
       "2015.0    26\n",
       "2011.0    24\n",
       "2016.0    24\n",
       "2022.0    24\n",
       "2012.0    24\n",
       "2018.0    24\n",
       "2021.0    24\n",
       "2024.0    24\n",
       "2023.0    24\n",
       "2017.0    24\n",
       "2019.0    24\n",
       "2020.0    24\n",
       "2025.0    20\n",
       "2026.0     5\n",
       "2027.0     1\n",
       "Name: ExpYear, dtype: int64"
      ]
     },
     "execution_count": 35,
     "metadata": {},
     "output_type": "execute_result"
    }
   ],
   "source": [
    "x2.ExpYear.value_counts()"
   ]
  },
  {
   "cell_type": "code",
   "execution_count": 36,
   "id": "00c59230",
   "metadata": {},
   "outputs": [],
   "source": [
    "x2 = x2.loc[ ~x2['ExpYear'].isin(range(2023,9999)) ]"
   ]
  },
  {
   "cell_type": "code",
   "execution_count": 38,
   "id": "b8aa069e",
   "metadata": {},
   "outputs": [
    {
     "data": {
      "text/html": [
       "<div>\n",
       "<style scoped>\n",
       "    .dataframe tbody tr th:only-of-type {\n",
       "        vertical-align: middle;\n",
       "    }\n",
       "\n",
       "    .dataframe tbody tr th {\n",
       "        vertical-align: top;\n",
       "    }\n",
       "\n",
       "    .dataframe thead th {\n",
       "        text-align: right;\n",
       "    }\n",
       "</style>\n",
       "<table border=\"1\" class=\"dataframe\">\n",
       "  <thead>\n",
       "    <tr style=\"text-align: right;\">\n",
       "      <th></th>\n",
       "      <th>ExpYear</th>\n",
       "      <th>ExpMM</th>\n",
       "      <th>count</th>\n",
       "    </tr>\n",
       "  </thead>\n",
       "  <tbody>\n",
       "    <tr>\n",
       "      <th>402</th>\n",
       "      <td>2011.0</td>\n",
       "      <td>1.0</td>\n",
       "      <td>30</td>\n",
       "    </tr>\n",
       "    <tr>\n",
       "      <th>403</th>\n",
       "      <td>2011.0</td>\n",
       "      <td>2.0</td>\n",
       "      <td>2</td>\n",
       "    </tr>\n",
       "    <tr>\n",
       "      <th>404</th>\n",
       "      <td>2011.0</td>\n",
       "      <td>3.0</td>\n",
       "      <td>21</td>\n",
       "    </tr>\n",
       "    <tr>\n",
       "      <th>405</th>\n",
       "      <td>2011.0</td>\n",
       "      <td>4.0</td>\n",
       "      <td>18</td>\n",
       "    </tr>\n",
       "    <tr>\n",
       "      <th>406</th>\n",
       "      <td>2011.0</td>\n",
       "      <td>5.0</td>\n",
       "      <td>15</td>\n",
       "    </tr>\n",
       "    <tr>\n",
       "      <th>...</th>\n",
       "      <td>...</td>\n",
       "      <td>...</td>\n",
       "      <td>...</td>\n",
       "    </tr>\n",
       "    <tr>\n",
       "      <th>777</th>\n",
       "      <td>2022.0</td>\n",
       "      <td>08</td>\n",
       "      <td>2879</td>\n",
       "    </tr>\n",
       "    <tr>\n",
       "      <th>778</th>\n",
       "      <td>2022.0</td>\n",
       "      <td>09</td>\n",
       "      <td>654</td>\n",
       "    </tr>\n",
       "    <tr>\n",
       "      <th>779</th>\n",
       "      <td>2022.0</td>\n",
       "      <td>10</td>\n",
       "      <td>193</td>\n",
       "    </tr>\n",
       "    <tr>\n",
       "      <th>780</th>\n",
       "      <td>2022.0</td>\n",
       "      <td>11</td>\n",
       "      <td>44</td>\n",
       "    </tr>\n",
       "    <tr>\n",
       "      <th>781</th>\n",
       "      <td>2022.0</td>\n",
       "      <td>12</td>\n",
       "      <td>117</td>\n",
       "    </tr>\n",
       "  </tbody>\n",
       "</table>\n",
       "<p>307 rows × 3 columns</p>\n",
       "</div>"
      ],
      "text/plain": [
       "     ExpYear ExpMM  count\n",
       "402   2011.0   1.0     30\n",
       "403   2011.0   2.0      2\n",
       "404   2011.0   3.0     21\n",
       "405   2011.0   4.0     18\n",
       "406   2011.0   5.0     15\n",
       "..       ...   ...    ...\n",
       "777   2022.0    08   2879\n",
       "778   2022.0    09    654\n",
       "779   2022.0    10    193\n",
       "780   2022.0    11     44\n",
       "781   2022.0    12    117\n",
       "\n",
       "[307 rows x 3 columns]"
      ]
     },
     "execution_count": 38,
     "metadata": {},
     "output_type": "execute_result"
    }
   ],
   "source": [
    "x2"
   ]
  },
  {
   "cell_type": "code",
   "execution_count": 39,
   "id": "e5447dd4",
   "metadata": {},
   "outputs": [
    {
     "data": {
      "text/plain": [
       "2014.0    34\n",
       "2013.0    31\n",
       "2015.0    26\n",
       "2019.0    24\n",
       "2017.0    24\n",
       "2011.0    24\n",
       "2021.0    24\n",
       "2018.0    24\n",
       "2012.0    24\n",
       "2022.0    24\n",
       "2016.0    24\n",
       "2020.0    24\n",
       "Name: ExpYear, dtype: int64"
      ]
     },
     "execution_count": 39,
     "metadata": {},
     "output_type": "execute_result"
    }
   ],
   "source": [
    "x2.ExpYear.value_counts()"
   ]
  },
  {
   "cell_type": "code",
   "execution_count": 40,
   "id": "193b50f0",
   "metadata": {},
   "outputs": [
    {
     "data": {
      "text/plain": [
       "ExpYear    float64\n",
       "ExpMM       object\n",
       "count        int64\n",
       "dtype: object"
      ]
     },
     "execution_count": 40,
     "metadata": {},
     "output_type": "execute_result"
    }
   ],
   "source": [
    "x2.dtypes"
   ]
  },
  {
   "cell_type": "code",
   "execution_count": 41,
   "id": "7fb7e3fa",
   "metadata": {},
   "outputs": [],
   "source": [
    "x2['ExpMM']   = x2['ExpMM'].astype('int')\n",
    "x2['ExpYear'] = x2['ExpYear'].astype('int')"
   ]
  },
  {
   "cell_type": "code",
   "execution_count": 42,
   "id": "0607fd48",
   "metadata": {},
   "outputs": [
    {
     "data": {
      "text/plain": [
       "ExpYear    int32\n",
       "ExpMM      int32\n",
       "count      int64\n",
       "dtype: object"
      ]
     },
     "execution_count": 42,
     "metadata": {},
     "output_type": "execute_result"
    }
   ],
   "source": [
    "x2.dtypes"
   ]
  },
  {
   "cell_type": "code",
   "execution_count": 43,
   "id": "01dd0eb1",
   "metadata": {},
   "outputs": [
    {
     "data": {
      "text/plain": [
       "71989"
      ]
     },
     "execution_count": 43,
     "metadata": {},
     "output_type": "execute_result"
    }
   ],
   "source": [
    "x2['count'].max()"
   ]
  },
  {
   "cell_type": "code",
   "execution_count": 44,
   "id": "8f953cd5",
   "metadata": {},
   "outputs": [],
   "source": [
    "x2['count_hundreds'] = round(x2['count']/100,0)"
   ]
  },
  {
   "cell_type": "code",
   "execution_count": 45,
   "id": "7f2cb63f",
   "metadata": {},
   "outputs": [
    {
     "data": {
      "text/html": [
       "<div>\n",
       "<style scoped>\n",
       "    .dataframe tbody tr th:only-of-type {\n",
       "        vertical-align: middle;\n",
       "    }\n",
       "\n",
       "    .dataframe tbody tr th {\n",
       "        vertical-align: top;\n",
       "    }\n",
       "\n",
       "    .dataframe thead th {\n",
       "        text-align: right;\n",
       "    }\n",
       "</style>\n",
       "<table border=\"1\" class=\"dataframe\">\n",
       "  <thead>\n",
       "    <tr style=\"text-align: right;\">\n",
       "      <th></th>\n",
       "      <th>ExpYear</th>\n",
       "      <th>ExpMM</th>\n",
       "      <th>count</th>\n",
       "      <th>count_hundreds</th>\n",
       "    </tr>\n",
       "  </thead>\n",
       "  <tbody>\n",
       "    <tr>\n",
       "      <th>402</th>\n",
       "      <td>2011</td>\n",
       "      <td>1</td>\n",
       "      <td>30</td>\n",
       "      <td>0.0</td>\n",
       "    </tr>\n",
       "    <tr>\n",
       "      <th>403</th>\n",
       "      <td>2011</td>\n",
       "      <td>2</td>\n",
       "      <td>2</td>\n",
       "      <td>0.0</td>\n",
       "    </tr>\n",
       "    <tr>\n",
       "      <th>404</th>\n",
       "      <td>2011</td>\n",
       "      <td>3</td>\n",
       "      <td>21</td>\n",
       "      <td>0.0</td>\n",
       "    </tr>\n",
       "    <tr>\n",
       "      <th>405</th>\n",
       "      <td>2011</td>\n",
       "      <td>4</td>\n",
       "      <td>18</td>\n",
       "      <td>0.0</td>\n",
       "    </tr>\n",
       "    <tr>\n",
       "      <th>406</th>\n",
       "      <td>2011</td>\n",
       "      <td>5</td>\n",
       "      <td>15</td>\n",
       "      <td>0.0</td>\n",
       "    </tr>\n",
       "    <tr>\n",
       "      <th>...</th>\n",
       "      <td>...</td>\n",
       "      <td>...</td>\n",
       "      <td>...</td>\n",
       "      <td>...</td>\n",
       "    </tr>\n",
       "    <tr>\n",
       "      <th>777</th>\n",
       "      <td>2022</td>\n",
       "      <td>8</td>\n",
       "      <td>2879</td>\n",
       "      <td>29.0</td>\n",
       "    </tr>\n",
       "    <tr>\n",
       "      <th>778</th>\n",
       "      <td>2022</td>\n",
       "      <td>9</td>\n",
       "      <td>654</td>\n",
       "      <td>7.0</td>\n",
       "    </tr>\n",
       "    <tr>\n",
       "      <th>779</th>\n",
       "      <td>2022</td>\n",
       "      <td>10</td>\n",
       "      <td>193</td>\n",
       "      <td>2.0</td>\n",
       "    </tr>\n",
       "    <tr>\n",
       "      <th>780</th>\n",
       "      <td>2022</td>\n",
       "      <td>11</td>\n",
       "      <td>44</td>\n",
       "      <td>0.0</td>\n",
       "    </tr>\n",
       "    <tr>\n",
       "      <th>781</th>\n",
       "      <td>2022</td>\n",
       "      <td>12</td>\n",
       "      <td>117</td>\n",
       "      <td>1.0</td>\n",
       "    </tr>\n",
       "  </tbody>\n",
       "</table>\n",
       "<p>307 rows × 4 columns</p>\n",
       "</div>"
      ],
      "text/plain": [
       "     ExpYear  ExpMM  count  count_hundreds\n",
       "402     2011      1     30             0.0\n",
       "403     2011      2      2             0.0\n",
       "404     2011      3     21             0.0\n",
       "405     2011      4     18             0.0\n",
       "406     2011      5     15             0.0\n",
       "..       ...    ...    ...             ...\n",
       "777     2022      8   2879            29.0\n",
       "778     2022      9    654             7.0\n",
       "779     2022     10    193             2.0\n",
       "780     2022     11     44             0.0\n",
       "781     2022     12    117             1.0\n",
       "\n",
       "[307 rows x 4 columns]"
      ]
     },
     "execution_count": 45,
     "metadata": {},
     "output_type": "execute_result"
    }
   ],
   "source": [
    "x2"
   ]
  },
  {
   "cell_type": "code",
   "execution_count": 46,
   "id": "08734d97",
   "metadata": {},
   "outputs": [
    {
     "data": {
      "text/plain": [
       "(307, 4)"
      ]
     },
     "execution_count": 46,
     "metadata": {},
     "output_type": "execute_result"
    }
   ],
   "source": [
    "x2.shape"
   ]
  },
  {
   "cell_type": "code",
   "execution_count": 47,
   "id": "33a66ee3",
   "metadata": {},
   "outputs": [
    {
     "data": {
      "text/html": [
       "<div>\n",
       "<style scoped>\n",
       "    .dataframe tbody tr th:only-of-type {\n",
       "        vertical-align: middle;\n",
       "    }\n",
       "\n",
       "    .dataframe tbody tr th {\n",
       "        vertical-align: top;\n",
       "    }\n",
       "\n",
       "    .dataframe thead th {\n",
       "        text-align: right;\n",
       "    }\n",
       "</style>\n",
       "<table border=\"1\" class=\"dataframe\">\n",
       "  <thead>\n",
       "    <tr style=\"text-align: right;\">\n",
       "      <th></th>\n",
       "      <th>ExpYear</th>\n",
       "      <th>ExpMM</th>\n",
       "      <th>count</th>\n",
       "      <th>count_hundreds</th>\n",
       "    </tr>\n",
       "  </thead>\n",
       "  <tbody>\n",
       "    <tr>\n",
       "      <th>0</th>\n",
       "      <td>2011</td>\n",
       "      <td>1</td>\n",
       "      <td>30</td>\n",
       "      <td>0.0</td>\n",
       "    </tr>\n",
       "    <tr>\n",
       "      <th>1</th>\n",
       "      <td>2011</td>\n",
       "      <td>2</td>\n",
       "      <td>2</td>\n",
       "      <td>0.0</td>\n",
       "    </tr>\n",
       "    <tr>\n",
       "      <th>2</th>\n",
       "      <td>2011</td>\n",
       "      <td>3</td>\n",
       "      <td>21</td>\n",
       "      <td>0.0</td>\n",
       "    </tr>\n",
       "    <tr>\n",
       "      <th>3</th>\n",
       "      <td>2011</td>\n",
       "      <td>4</td>\n",
       "      <td>18</td>\n",
       "      <td>0.0</td>\n",
       "    </tr>\n",
       "    <tr>\n",
       "      <th>4</th>\n",
       "      <td>2011</td>\n",
       "      <td>5</td>\n",
       "      <td>15</td>\n",
       "      <td>0.0</td>\n",
       "    </tr>\n",
       "    <tr>\n",
       "      <th>...</th>\n",
       "      <td>...</td>\n",
       "      <td>...</td>\n",
       "      <td>...</td>\n",
       "      <td>...</td>\n",
       "    </tr>\n",
       "    <tr>\n",
       "      <th>302</th>\n",
       "      <td>2022</td>\n",
       "      <td>8</td>\n",
       "      <td>2879</td>\n",
       "      <td>29.0</td>\n",
       "    </tr>\n",
       "    <tr>\n",
       "      <th>303</th>\n",
       "      <td>2022</td>\n",
       "      <td>9</td>\n",
       "      <td>654</td>\n",
       "      <td>7.0</td>\n",
       "    </tr>\n",
       "    <tr>\n",
       "      <th>304</th>\n",
       "      <td>2022</td>\n",
       "      <td>10</td>\n",
       "      <td>193</td>\n",
       "      <td>2.0</td>\n",
       "    </tr>\n",
       "    <tr>\n",
       "      <th>305</th>\n",
       "      <td>2022</td>\n",
       "      <td>11</td>\n",
       "      <td>44</td>\n",
       "      <td>0.0</td>\n",
       "    </tr>\n",
       "    <tr>\n",
       "      <th>306</th>\n",
       "      <td>2022</td>\n",
       "      <td>12</td>\n",
       "      <td>117</td>\n",
       "      <td>1.0</td>\n",
       "    </tr>\n",
       "  </tbody>\n",
       "</table>\n",
       "<p>307 rows × 4 columns</p>\n",
       "</div>"
      ],
      "text/plain": [
       "     ExpYear  ExpMM  count  count_hundreds\n",
       "0       2011      1     30             0.0\n",
       "1       2011      2      2             0.0\n",
       "2       2011      3     21             0.0\n",
       "3       2011      4     18             0.0\n",
       "4       2011      5     15             0.0\n",
       "..       ...    ...    ...             ...\n",
       "302     2022      8   2879            29.0\n",
       "303     2022      9    654             7.0\n",
       "304     2022     10    193             2.0\n",
       "305     2022     11     44             0.0\n",
       "306     2022     12    117             1.0\n",
       "\n",
       "[307 rows x 4 columns]"
      ]
     },
     "execution_count": 47,
     "metadata": {},
     "output_type": "execute_result"
    }
   ],
   "source": [
    "x2 = x2.reset_index(drop = True)\n",
    "x2"
   ]
  },
  {
   "cell_type": "code",
   "execution_count": 48,
   "id": "f27add21",
   "metadata": {},
   "outputs": [
    {
     "data": {
      "text/html": [
       "<div>\n",
       "<style scoped>\n",
       "    .dataframe tbody tr th:only-of-type {\n",
       "        vertical-align: middle;\n",
       "    }\n",
       "\n",
       "    .dataframe tbody tr th {\n",
       "        vertical-align: top;\n",
       "    }\n",
       "\n",
       "    .dataframe thead th {\n",
       "        text-align: right;\n",
       "    }\n",
       "</style>\n",
       "<table border=\"1\" class=\"dataframe\">\n",
       "  <thead>\n",
       "    <tr style=\"text-align: right;\">\n",
       "      <th></th>\n",
       "      <th>ExpYear</th>\n",
       "      <th>ExpMM</th>\n",
       "      <th>count</th>\n",
       "      <th>count_hundreds</th>\n",
       "    </tr>\n",
       "  </thead>\n",
       "  <tbody>\n",
       "    <tr>\n",
       "      <th>294</th>\n",
       "      <td>2022</td>\n",
       "      <td>12</td>\n",
       "      <td>36</td>\n",
       "      <td>0.0</td>\n",
       "    </tr>\n",
       "    <tr>\n",
       "      <th>306</th>\n",
       "      <td>2022</td>\n",
       "      <td>12</td>\n",
       "      <td>117</td>\n",
       "      <td>1.0</td>\n",
       "    </tr>\n",
       "  </tbody>\n",
       "</table>\n",
       "</div>"
      ],
      "text/plain": [
       "     ExpYear  ExpMM  count  count_hundreds\n",
       "294     2022     12     36             0.0\n",
       "306     2022     12    117             1.0"
      ]
     },
     "execution_count": 48,
     "metadata": {},
     "output_type": "execute_result"
    }
   ],
   "source": [
    "x2[ (x2['ExpMM'] == 12) & (x2['ExpYear'] == 2022) ]"
   ]
  },
  {
   "cell_type": "code",
   "execution_count": 49,
   "id": "4df8bc92",
   "metadata": {},
   "outputs": [
    {
     "data": {
      "text/plain": [
       "2014    34\n",
       "2013    31\n",
       "2015    26\n",
       "2011    24\n",
       "2012    24\n",
       "2016    24\n",
       "2017    24\n",
       "2018    24\n",
       "2019    24\n",
       "2020    24\n",
       "2021    24\n",
       "2022    24\n",
       "Name: ExpYear, dtype: int64"
      ]
     },
     "execution_count": 49,
     "metadata": {},
     "output_type": "execute_result"
    }
   ],
   "source": [
    "x2['ExpYear'].value_counts()"
   ]
  },
  {
   "cell_type": "code",
   "execution_count": 50,
   "id": "88cc705d",
   "metadata": {},
   "outputs": [],
   "source": [
    "del x2['count_hundreds']"
   ]
  },
  {
   "cell_type": "code",
   "execution_count": 51,
   "id": "5cddf82b",
   "metadata": {},
   "outputs": [
    {
     "data": {
      "text/plain": [
       "(307, 3)"
      ]
     },
     "execution_count": 51,
     "metadata": {},
     "output_type": "execute_result"
    }
   ],
   "source": [
    "x2.shape\n"
   ]
  },
  {
   "cell_type": "code",
   "execution_count": 52,
   "id": "88e6fcaf",
   "metadata": {},
   "outputs": [
    {
     "data": {
      "text/html": [
       "<div>\n",
       "<style scoped>\n",
       "    .dataframe tbody tr th:only-of-type {\n",
       "        vertical-align: middle;\n",
       "    }\n",
       "\n",
       "    .dataframe tbody tr th {\n",
       "        vertical-align: top;\n",
       "    }\n",
       "\n",
       "    .dataframe thead th {\n",
       "        text-align: right;\n",
       "    }\n",
       "</style>\n",
       "<table border=\"1\" class=\"dataframe\">\n",
       "  <thead>\n",
       "    <tr style=\"text-align: right;\">\n",
       "      <th></th>\n",
       "      <th>ExpYear</th>\n",
       "      <th>ExpMM</th>\n",
       "      <th>count</th>\n",
       "    </tr>\n",
       "  </thead>\n",
       "  <tbody>\n",
       "    <tr>\n",
       "      <th>0</th>\n",
       "      <td>2011</td>\n",
       "      <td>1</td>\n",
       "      <td>60</td>\n",
       "    </tr>\n",
       "    <tr>\n",
       "      <th>1</th>\n",
       "      <td>2011</td>\n",
       "      <td>2</td>\n",
       "      <td>35</td>\n",
       "    </tr>\n",
       "    <tr>\n",
       "      <th>2</th>\n",
       "      <td>2011</td>\n",
       "      <td>3</td>\n",
       "      <td>77</td>\n",
       "    </tr>\n",
       "    <tr>\n",
       "      <th>3</th>\n",
       "      <td>2011</td>\n",
       "      <td>4</td>\n",
       "      <td>81</td>\n",
       "    </tr>\n",
       "    <tr>\n",
       "      <th>4</th>\n",
       "      <td>2011</td>\n",
       "      <td>5</td>\n",
       "      <td>63</td>\n",
       "    </tr>\n",
       "    <tr>\n",
       "      <th>...</th>\n",
       "      <td>...</td>\n",
       "      <td>...</td>\n",
       "      <td>...</td>\n",
       "    </tr>\n",
       "    <tr>\n",
       "      <th>139</th>\n",
       "      <td>2022</td>\n",
       "      <td>8</td>\n",
       "      <td>3176</td>\n",
       "    </tr>\n",
       "    <tr>\n",
       "      <th>140</th>\n",
       "      <td>2022</td>\n",
       "      <td>9</td>\n",
       "      <td>736</td>\n",
       "    </tr>\n",
       "    <tr>\n",
       "      <th>141</th>\n",
       "      <td>2022</td>\n",
       "      <td>10</td>\n",
       "      <td>238</td>\n",
       "    </tr>\n",
       "    <tr>\n",
       "      <th>142</th>\n",
       "      <td>2022</td>\n",
       "      <td>11</td>\n",
       "      <td>69</td>\n",
       "    </tr>\n",
       "    <tr>\n",
       "      <th>143</th>\n",
       "      <td>2022</td>\n",
       "      <td>12</td>\n",
       "      <td>153</td>\n",
       "    </tr>\n",
       "  </tbody>\n",
       "</table>\n",
       "<p>144 rows × 3 columns</p>\n",
       "</div>"
      ],
      "text/plain": [
       "     ExpYear  ExpMM  count\n",
       "0       2011      1     60\n",
       "1       2011      2     35\n",
       "2       2011      3     77\n",
       "3       2011      4     81\n",
       "4       2011      5     63\n",
       "..       ...    ...    ...\n",
       "139     2022      8   3176\n",
       "140     2022      9    736\n",
       "141     2022     10    238\n",
       "142     2022     11     69\n",
       "143     2022     12    153\n",
       "\n",
       "[144 rows x 3 columns]"
      ]
     },
     "execution_count": 52,
     "metadata": {},
     "output_type": "execute_result"
    }
   ],
   "source": [
    "x3 = x2.groupby(['ExpYear', 'ExpMM'])['count'].sum().reset_index()\n",
    "x3 = pd.DataFrame(x3)\n",
    "x3"
   ]
  },
  {
   "cell_type": "code",
   "execution_count": 54,
   "id": "0c24ea4b",
   "metadata": {},
   "outputs": [
    {
     "data": {
      "text/plain": [
       "35"
      ]
     },
     "execution_count": 54,
     "metadata": {},
     "output_type": "execute_result"
    }
   ],
   "source": [
    "x3['count'].min()"
   ]
  },
  {
   "cell_type": "code",
   "execution_count": 55,
   "id": "da8ba9dd",
   "metadata": {},
   "outputs": [],
   "source": [
    "x3['count_hundreds'] = round(x3['count']/100,0)"
   ]
  },
  {
   "cell_type": "code",
   "execution_count": 57,
   "id": "3746c475",
   "metadata": {},
   "outputs": [
    {
     "data": {
      "text/html": [
       "<div>\n",
       "<style scoped>\n",
       "    .dataframe tbody tr th:only-of-type {\n",
       "        vertical-align: middle;\n",
       "    }\n",
       "\n",
       "    .dataframe tbody tr th {\n",
       "        vertical-align: top;\n",
       "    }\n",
       "\n",
       "    .dataframe thead th {\n",
       "        text-align: right;\n",
       "    }\n",
       "</style>\n",
       "<table border=\"1\" class=\"dataframe\">\n",
       "  <thead>\n",
       "    <tr style=\"text-align: right;\">\n",
       "      <th></th>\n",
       "      <th>ExpYear</th>\n",
       "      <th>ExpMM</th>\n",
       "      <th>count</th>\n",
       "      <th>count_hundreds</th>\n",
       "    </tr>\n",
       "  </thead>\n",
       "  <tbody>\n",
       "    <tr>\n",
       "      <th>0</th>\n",
       "      <td>2011</td>\n",
       "      <td>1</td>\n",
       "      <td>60</td>\n",
       "      <td>1.0</td>\n",
       "    </tr>\n",
       "    <tr>\n",
       "      <th>1</th>\n",
       "      <td>2011</td>\n",
       "      <td>2</td>\n",
       "      <td>35</td>\n",
       "      <td>0.0</td>\n",
       "    </tr>\n",
       "    <tr>\n",
       "      <th>2</th>\n",
       "      <td>2011</td>\n",
       "      <td>3</td>\n",
       "      <td>77</td>\n",
       "      <td>1.0</td>\n",
       "    </tr>\n",
       "    <tr>\n",
       "      <th>3</th>\n",
       "      <td>2011</td>\n",
       "      <td>4</td>\n",
       "      <td>81</td>\n",
       "      <td>1.0</td>\n",
       "    </tr>\n",
       "    <tr>\n",
       "      <th>4</th>\n",
       "      <td>2011</td>\n",
       "      <td>5</td>\n",
       "      <td>63</td>\n",
       "      <td>1.0</td>\n",
       "    </tr>\n",
       "    <tr>\n",
       "      <th>...</th>\n",
       "      <td>...</td>\n",
       "      <td>...</td>\n",
       "      <td>...</td>\n",
       "      <td>...</td>\n",
       "    </tr>\n",
       "    <tr>\n",
       "      <th>139</th>\n",
       "      <td>2022</td>\n",
       "      <td>8</td>\n",
       "      <td>3176</td>\n",
       "      <td>32.0</td>\n",
       "    </tr>\n",
       "    <tr>\n",
       "      <th>140</th>\n",
       "      <td>2022</td>\n",
       "      <td>9</td>\n",
       "      <td>736</td>\n",
       "      <td>7.0</td>\n",
       "    </tr>\n",
       "    <tr>\n",
       "      <th>141</th>\n",
       "      <td>2022</td>\n",
       "      <td>10</td>\n",
       "      <td>238</td>\n",
       "      <td>2.0</td>\n",
       "    </tr>\n",
       "    <tr>\n",
       "      <th>142</th>\n",
       "      <td>2022</td>\n",
       "      <td>11</td>\n",
       "      <td>69</td>\n",
       "      <td>1.0</td>\n",
       "    </tr>\n",
       "    <tr>\n",
       "      <th>143</th>\n",
       "      <td>2022</td>\n",
       "      <td>12</td>\n",
       "      <td>153</td>\n",
       "      <td>2.0</td>\n",
       "    </tr>\n",
       "  </tbody>\n",
       "</table>\n",
       "<p>144 rows × 4 columns</p>\n",
       "</div>"
      ],
      "text/plain": [
       "     ExpYear  ExpMM  count  count_hundreds\n",
       "0       2011      1     60             1.0\n",
       "1       2011      2     35             0.0\n",
       "2       2011      3     77             1.0\n",
       "3       2011      4     81             1.0\n",
       "4       2011      5     63             1.0\n",
       "..       ...    ...    ...             ...\n",
       "139     2022      8   3176            32.0\n",
       "140     2022      9    736             7.0\n",
       "141     2022     10    238             2.0\n",
       "142     2022     11     69             1.0\n",
       "143     2022     12    153             2.0\n",
       "\n",
       "[144 rows x 4 columns]"
      ]
     },
     "execution_count": 57,
     "metadata": {},
     "output_type": "execute_result"
    }
   ],
   "source": [
    "x3"
   ]
  },
  {
   "cell_type": "code",
   "execution_count": 70,
   "id": "5abfb756",
   "metadata": {},
   "outputs": [
    {
     "data": {
      "image/png": "[encoded data removed]",
      "text/plain": [
       "<Figure size 1296x720 with 2 Axes>"
      ]
     },
     "metadata": {
      "needs_background": "light"
     },
     "output_type": "display_data"
    }
   ],
   "source": [
    "plt.figure(figsize = (18,10))\n",
    "\n",
    "plt.scatter(x3['ExpMM'], x3['ExpYear'], marker = '8', cmap = 'viridis', \n",
    "            c = x3['count_hundreds'], s=x3['count_hundreds'], edgecolors = 'black')\n",
    "\n",
    "plt.title('Citations by Vehicle registration experation', fontsize = 18)\n",
    "plt.xlabel('Months of the Year', fontsize = 14)\n",
    "plt.ylabel('Year', fontsize = 14)\n",
    "\n",
    "cbar = plt.colorbar()\n",
    "cbar.set_label('Number of Citations', rotation = 270, fontsize = 14, color = 'black', labelpad = 30)\n",
    "\n",
    "my_colorbar_ticks = [*range(100, int(x3['count_hundreds'].max()), 100)]\n",
    "cbar.set_ticks(my_colorbar_ticks)\n",
    "\n",
    "my_colorbar_ticks_labels = [*range(10000, int(x3['count'].max()), 10000)]\n",
    "my_colorbar_ticks_labels = ['{:,}'.format(each) for each in my_colorbar_ticks_labels]\n",
    "cbar.set_ticklabels(my_colorbar_ticks_labels)\n",
    "\n",
    "my_x_ticks = [*range( x3['ExpMM'].min(), x3['ExpMM'].max()+1, 1 )]\n",
    "plt.xticks(my_x_ticks, fontsize = 14, color = 'black')\n",
    "\n",
    "my_y_ticks = [*range( x3['ExpYear'].min(), x3['ExpYear'].max()+1, 1 )]\n",
    "plt.yticks(my_y_ticks, fontsize = 14, color = 'black')\n",
    "\n",
    "plt.show()"
   ]
  },
  {
   "cell_type": "code",
   "execution_count": null,
   "id": "2d23f758",
   "metadata": {},
   "outputs": [],
   "source": []
  }
 ],
 "metadata": {
  "kernelspec": {
   "display_name": "Python 3",
   "language": "python",
   "name": "python3"
  },
  "language_info": {
   "codemirror_mode": {
    "name": "ipython",
    "version": 3
   },
   "file_extension": ".py",
   "mimetype": "text/x-python",
   "name": "python",
   "nbconvert_exporter": "python",
   "pygments_lexer": "ipython3",
   "version": "3.8.8"
  }
 },
 "nbformat": 4,
 "nbformat_minor": 5
}
