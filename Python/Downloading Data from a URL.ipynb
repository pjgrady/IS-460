{
 "cells": [
  {
   "cell_type": "code",
   "execution_count": 3,
   "id": "45b15c01",
   "metadata": {},
   "outputs": [],
   "source": [
    "import wget\n",
    "\n",
    "URL =\"https://uc84127ffb7e4e97b608a2ab7e64.dl.dropboxusercontent.com/cd/0/inline/BY2GY3yKzGQ-FRB_J6-8FaAcpG5adtODAzWsHKu9lL_AWZFudTvh473eXYFozMRz1bEsyFRHQQlm8tJr-hz2iHcgp2zJV6fezSo4eIencaMpUCcKNwPF8z9JqyIXk02yQywLpRixrIF_8N9qppJ9wqiL/file#\"\n",
    "\n",
    "#Windows Path\n",
    "#path = \"Users/paulg/Documents/GitHub/IS-460/Python/Data Visualization Data Files/\"\n",
    "\n",
    "#Mac Path\n",
    "path = \"/Users/paulgrady/Documents/IS Python Data Files\""
   ]
  },
  {
   "cell_type": "code",
   "execution_count": 4,
   "id": "de8b5c10",
   "metadata": {},
   "outputs": [
    {
     "data": {
      "text/plain": [
       "'/Users/paulgrady/Documents/GitHub/IS-460/Python/Data Visualization Data Files/Baltimore911_Dec2020.csv'"
      ]
     },
     "execution_count": 4,
     "metadata": {},
     "output_type": "execute_result"
    }
   ],
   "source": [
    "wget.download(URL, path + 'Baltimore911_Dec2020.csv')"
   ]
  },
  {
   "cell_type": "code",
   "execution_count": 5,
   "id": "a4d3a503",
   "metadata": {},
   "outputs": [
    {
     "name": "stdout",
     "output_type": "stream",
     "text": [
      "File size:  1.95 GB\n"
     ]
    }
   ],
   "source": [
    "import os\n",
    "\n",
    "size = os.stat(path + 'Baltimore911_Dec2020.csv').st_size\n",
    "\n",
    "print(\"File size: \", round(size/10**9,2), \"GB\")"
   ]
  },
  {
   "cell_type": "code",
   "execution_count": 1,
   "id": "228e001c",
   "metadata": {},
   "outputs": [],
   "source": [
    "import wget\n",
    "\n",
    "URL = \"https://uc142f540d4abbf0384b3a141f2b.dl.dropboxusercontent.com/cd/0/inline/BaG_J3PVlDtE5nE3_IUh4IB3a2YQGsrcyBPeM7St1eEnu3Ife0bb3ESb0vRr_YXoAvI5hScMe3JdnBBEbsAlGi_CH_ADVIiMEGqOCMvTc5ULyG5pznQnRF4aXfnsreblCipnuVq_MUq4qWCWSipvxvBo/file#\"\n",
    "path = \"/Users/paulgrady/Documents/IS Python Data Files\"\n"
   ]
  },
  {
   "cell_type": "code",
   "execution_count": 2,
   "id": "0840320e",
   "metadata": {},
   "outputs": [
    {
     "data": {
      "text/plain": [
       "'/Users/paulgrady/Documents/IS Python Data FilesBaltimore_Traffic_Citations.csv'"
      ]
     },
     "execution_count": 2,
     "metadata": {},
     "output_type": "execute_result"
    }
   ],
   "source": [
    "wget.download(URL, path + 'Baltimore_Traffic_Citations.csv')"
   ]
  },
  {
   "cell_type": "code",
   "execution_count": 3,
   "id": "d0930741",
   "metadata": {},
   "outputs": [
    {
     "name": "stdout",
     "output_type": "stream",
     "text": [
      "File size:  0.62 GB\n"
     ]
    }
   ],
   "source": [
    "import os\n",
    "\n",
    "size = os.stat(path + 'Baltimore_Traffic_Citations.csv').st_size\n",
    "\n",
    "print(\"File size: \", round(size/10**9,2), \"GB\")"
   ]
  },
  {
   "cell_type": "code",
   "execution_count": null,
   "id": "5278b583",
   "metadata": {},
   "outputs": [],
   "source": []
  }
 ],
 "metadata": {
  "kernelspec": {
   "display_name": "Python 3",
   "language": "python",
   "name": "python3"
  },
  "language_info": {
   "codemirror_mode": {
    "name": "ipython",
    "version": 3
   },
   "file_extension": ".py",
   "mimetype": "text/x-python",
   "name": "python",
   "nbconvert_exporter": "python",
   "pygments_lexer": "ipython3",
   "version": "3.8.8"
  }
 },
 "nbformat": 4,
 "nbformat_minor": 5
}
